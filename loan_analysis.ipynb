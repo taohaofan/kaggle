{
 "cells": [
  {
   "cell_type": "code",
   "execution_count": 175,
   "metadata": {},
   "outputs": [],
   "source": [
    "import numpy as np\n",
    "import pandas as pd\n",
    "import matplotlib.pyplot as plt\n",
    "import seaborn as sns\n",
    "from scipy import stats\n",
    "import re\n",
    "%matplotlib inline\n",
    "\n",
    "pd.options.display.float_format = '{:.4f}'.format #取消科学计数\n",
    "pd.set_option('display.max_columns', 100) #显示所有列\n",
    "pd.options.mode.chained_assignment = None\n",
    "\n",
    "loan_data=pd.read_csv(r'D:\\thf\\python\\kaggle\\loan\\loan.csv',low_memory=False)\n"
   ]
  },
  {
   "cell_type": "code",
   "execution_count": 91,
   "metadata": {},
   "outputs": [
    {
     "data": {
      "text/plain": [
       "(887379, 74)"
      ]
     },
     "execution_count": 91,
     "metadata": {},
     "output_type": "execute_result"
    }
   ],
   "source": [
    "loan_data.shape"
   ]
  },
  {
   "cell_type": "code",
   "execution_count": 92,
   "metadata": {},
   "outputs": [
    {
     "data": {
      "text/html": [
       "<div>\n",
       "<style scoped>\n",
       "    .dataframe tbody tr th:only-of-type {\n",
       "        vertical-align: middle;\n",
       "    }\n",
       "\n",
       "    .dataframe tbody tr th {\n",
       "        vertical-align: top;\n",
       "    }\n",
       "\n",
       "    .dataframe thead th {\n",
       "        text-align: right;\n",
       "    }\n",
       "</style>\n",
       "<table border=\"1\" class=\"dataframe\">\n",
       "  <thead>\n",
       "    <tr style=\"text-align: right;\">\n",
       "      <th></th>\n",
       "      <th>id</th>\n",
       "      <th>member_id</th>\n",
       "      <th>loan_amnt</th>\n",
       "      <th>funded_amnt</th>\n",
       "      <th>funded_amnt_inv</th>\n",
       "      <th>term</th>\n",
       "      <th>int_rate</th>\n",
       "      <th>installment</th>\n",
       "      <th>grade</th>\n",
       "      <th>sub_grade</th>\n",
       "      <th>emp_title</th>\n",
       "      <th>emp_length</th>\n",
       "      <th>home_ownership</th>\n",
       "      <th>annual_inc</th>\n",
       "      <th>verification_status</th>\n",
       "      <th>issue_d</th>\n",
       "      <th>loan_status</th>\n",
       "      <th>pymnt_plan</th>\n",
       "      <th>url</th>\n",
       "      <th>desc</th>\n",
       "      <th>purpose</th>\n",
       "      <th>title</th>\n",
       "      <th>zip_code</th>\n",
       "      <th>addr_state</th>\n",
       "      <th>dti</th>\n",
       "      <th>delinq_2yrs</th>\n",
       "      <th>earliest_cr_line</th>\n",
       "      <th>inq_last_6mths</th>\n",
       "      <th>mths_since_last_delinq</th>\n",
       "      <th>mths_since_last_record</th>\n",
       "      <th>open_acc</th>\n",
       "      <th>pub_rec</th>\n",
       "      <th>revol_bal</th>\n",
       "      <th>revol_util</th>\n",
       "      <th>total_acc</th>\n",
       "      <th>initial_list_status</th>\n",
       "      <th>out_prncp</th>\n",
       "      <th>out_prncp_inv</th>\n",
       "      <th>total_pymnt</th>\n",
       "      <th>total_pymnt_inv</th>\n",
       "      <th>total_rec_prncp</th>\n",
       "      <th>total_rec_int</th>\n",
       "      <th>total_rec_late_fee</th>\n",
       "      <th>recoveries</th>\n",
       "      <th>collection_recovery_fee</th>\n",
       "      <th>last_pymnt_d</th>\n",
       "      <th>last_pymnt_amnt</th>\n",
       "      <th>next_pymnt_d</th>\n",
       "      <th>last_credit_pull_d</th>\n",
       "      <th>collections_12_mths_ex_med</th>\n",
       "      <th>mths_since_last_major_derog</th>\n",
       "      <th>policy_code</th>\n",
       "      <th>application_type</th>\n",
       "      <th>annual_inc_joint</th>\n",
       "      <th>dti_joint</th>\n",
       "      <th>verification_status_joint</th>\n",
       "      <th>acc_now_delinq</th>\n",
       "      <th>tot_coll_amt</th>\n",
       "      <th>tot_cur_bal</th>\n",
       "      <th>open_acc_6m</th>\n",
       "      <th>open_il_6m</th>\n",
       "      <th>open_il_12m</th>\n",
       "      <th>open_il_24m</th>\n",
       "      <th>mths_since_rcnt_il</th>\n",
       "      <th>total_bal_il</th>\n",
       "      <th>il_util</th>\n",
       "      <th>open_rv_12m</th>\n",
       "      <th>open_rv_24m</th>\n",
       "      <th>max_bal_bc</th>\n",
       "      <th>all_util</th>\n",
       "      <th>total_rev_hi_lim</th>\n",
       "      <th>inq_fi</th>\n",
       "      <th>total_cu_tl</th>\n",
       "      <th>inq_last_12m</th>\n",
       "    </tr>\n",
       "  </thead>\n",
       "  <tbody>\n",
       "    <tr>\n",
       "      <th>0</th>\n",
       "      <td>1077501</td>\n",
       "      <td>1296599</td>\n",
       "      <td>5000.0000</td>\n",
       "      <td>5000.0000</td>\n",
       "      <td>4975.0000</td>\n",
       "      <td>36 months</td>\n",
       "      <td>10.6500</td>\n",
       "      <td>162.8700</td>\n",
       "      <td>B</td>\n",
       "      <td>B2</td>\n",
       "      <td>NaN</td>\n",
       "      <td>10+ years</td>\n",
       "      <td>RENT</td>\n",
       "      <td>24000.0000</td>\n",
       "      <td>Verified</td>\n",
       "      <td>Dec-2011</td>\n",
       "      <td>Fully Paid</td>\n",
       "      <td>n</td>\n",
       "      <td>https://www.lendingclub.com/browse/loanDetail....</td>\n",
       "      <td>Borrower added on 12/22/11 &gt; I need to upgra...</td>\n",
       "      <td>credit_card</td>\n",
       "      <td>Computer</td>\n",
       "      <td>860xx</td>\n",
       "      <td>AZ</td>\n",
       "      <td>27.6500</td>\n",
       "      <td>0.0000</td>\n",
       "      <td>Jan-1985</td>\n",
       "      <td>1.0000</td>\n",
       "      <td>nan</td>\n",
       "      <td>nan</td>\n",
       "      <td>3.0000</td>\n",
       "      <td>0.0000</td>\n",
       "      <td>13648.0000</td>\n",
       "      <td>83.7000</td>\n",
       "      <td>9.0000</td>\n",
       "      <td>f</td>\n",
       "      <td>0.0000</td>\n",
       "      <td>0.0000</td>\n",
       "      <td>5861.0714</td>\n",
       "      <td>5831.7800</td>\n",
       "      <td>5000.0000</td>\n",
       "      <td>861.0700</td>\n",
       "      <td>0.0000</td>\n",
       "      <td>0.0000</td>\n",
       "      <td>0.0000</td>\n",
       "      <td>Jan-2015</td>\n",
       "      <td>171.6200</td>\n",
       "      <td>NaN</td>\n",
       "      <td>Jan-2016</td>\n",
       "      <td>0.0000</td>\n",
       "      <td>nan</td>\n",
       "      <td>1.0000</td>\n",
       "      <td>INDIVIDUAL</td>\n",
       "      <td>nan</td>\n",
       "      <td>nan</td>\n",
       "      <td>NaN</td>\n",
       "      <td>0.0000</td>\n",
       "      <td>nan</td>\n",
       "      <td>nan</td>\n",
       "      <td>nan</td>\n",
       "      <td>nan</td>\n",
       "      <td>nan</td>\n",
       "      <td>nan</td>\n",
       "      <td>nan</td>\n",
       "      <td>nan</td>\n",
       "      <td>nan</td>\n",
       "      <td>nan</td>\n",
       "      <td>nan</td>\n",
       "      <td>nan</td>\n",
       "      <td>nan</td>\n",
       "      <td>nan</td>\n",
       "      <td>nan</td>\n",
       "      <td>nan</td>\n",
       "      <td>nan</td>\n",
       "    </tr>\n",
       "    <tr>\n",
       "      <th>1</th>\n",
       "      <td>1077430</td>\n",
       "      <td>1314167</td>\n",
       "      <td>2500.0000</td>\n",
       "      <td>2500.0000</td>\n",
       "      <td>2500.0000</td>\n",
       "      <td>60 months</td>\n",
       "      <td>15.2700</td>\n",
       "      <td>59.8300</td>\n",
       "      <td>C</td>\n",
       "      <td>C4</td>\n",
       "      <td>Ryder</td>\n",
       "      <td>&lt; 1 year</td>\n",
       "      <td>RENT</td>\n",
       "      <td>30000.0000</td>\n",
       "      <td>Source Verified</td>\n",
       "      <td>Dec-2011</td>\n",
       "      <td>Charged Off</td>\n",
       "      <td>n</td>\n",
       "      <td>https://www.lendingclub.com/browse/loanDetail....</td>\n",
       "      <td>Borrower added on 12/22/11 &gt; I plan to use t...</td>\n",
       "      <td>car</td>\n",
       "      <td>bike</td>\n",
       "      <td>309xx</td>\n",
       "      <td>GA</td>\n",
       "      <td>1.0000</td>\n",
       "      <td>0.0000</td>\n",
       "      <td>Apr-1999</td>\n",
       "      <td>5.0000</td>\n",
       "      <td>nan</td>\n",
       "      <td>nan</td>\n",
       "      <td>3.0000</td>\n",
       "      <td>0.0000</td>\n",
       "      <td>1687.0000</td>\n",
       "      <td>9.4000</td>\n",
       "      <td>4.0000</td>\n",
       "      <td>f</td>\n",
       "      <td>0.0000</td>\n",
       "      <td>0.0000</td>\n",
       "      <td>1008.7100</td>\n",
       "      <td>1008.7100</td>\n",
       "      <td>456.4600</td>\n",
       "      <td>435.1700</td>\n",
       "      <td>0.0000</td>\n",
       "      <td>117.0800</td>\n",
       "      <td>1.1100</td>\n",
       "      <td>Apr-2013</td>\n",
       "      <td>119.6600</td>\n",
       "      <td>NaN</td>\n",
       "      <td>Sep-2013</td>\n",
       "      <td>0.0000</td>\n",
       "      <td>nan</td>\n",
       "      <td>1.0000</td>\n",
       "      <td>INDIVIDUAL</td>\n",
       "      <td>nan</td>\n",
       "      <td>nan</td>\n",
       "      <td>NaN</td>\n",
       "      <td>0.0000</td>\n",
       "      <td>nan</td>\n",
       "      <td>nan</td>\n",
       "      <td>nan</td>\n",
       "      <td>nan</td>\n",
       "      <td>nan</td>\n",
       "      <td>nan</td>\n",
       "      <td>nan</td>\n",
       "      <td>nan</td>\n",
       "      <td>nan</td>\n",
       "      <td>nan</td>\n",
       "      <td>nan</td>\n",
       "      <td>nan</td>\n",
       "      <td>nan</td>\n",
       "      <td>nan</td>\n",
       "      <td>nan</td>\n",
       "      <td>nan</td>\n",
       "      <td>nan</td>\n",
       "    </tr>\n",
       "  </tbody>\n",
       "</table>\n",
       "</div>"
      ],
      "text/plain": [
       "        id  member_id  loan_amnt  funded_amnt  funded_amnt_inv        term  \\\n",
       "0  1077501    1296599  5000.0000    5000.0000        4975.0000   36 months   \n",
       "1  1077430    1314167  2500.0000    2500.0000        2500.0000   60 months   \n",
       "\n",
       "   int_rate  installment grade sub_grade emp_title emp_length home_ownership  \\\n",
       "0   10.6500     162.8700     B        B2       NaN  10+ years           RENT   \n",
       "1   15.2700      59.8300     C        C4     Ryder   < 1 year           RENT   \n",
       "\n",
       "   annual_inc verification_status   issue_d  loan_status pymnt_plan  \\\n",
       "0  24000.0000            Verified  Dec-2011   Fully Paid          n   \n",
       "1  30000.0000     Source Verified  Dec-2011  Charged Off          n   \n",
       "\n",
       "                                                 url  \\\n",
       "0  https://www.lendingclub.com/browse/loanDetail....   \n",
       "1  https://www.lendingclub.com/browse/loanDetail....   \n",
       "\n",
       "                                                desc      purpose     title  \\\n",
       "0    Borrower added on 12/22/11 > I need to upgra...  credit_card  Computer   \n",
       "1    Borrower added on 12/22/11 > I plan to use t...          car      bike   \n",
       "\n",
       "  zip_code addr_state     dti  delinq_2yrs earliest_cr_line  inq_last_6mths  \\\n",
       "0    860xx         AZ 27.6500       0.0000         Jan-1985          1.0000   \n",
       "1    309xx         GA  1.0000       0.0000         Apr-1999          5.0000   \n",
       "\n",
       "   mths_since_last_delinq  mths_since_last_record  open_acc  pub_rec  \\\n",
       "0                     nan                     nan    3.0000   0.0000   \n",
       "1                     nan                     nan    3.0000   0.0000   \n",
       "\n",
       "   revol_bal  revol_util  total_acc initial_list_status  out_prncp  \\\n",
       "0 13648.0000     83.7000     9.0000                   f     0.0000   \n",
       "1  1687.0000      9.4000     4.0000                   f     0.0000   \n",
       "\n",
       "   out_prncp_inv  total_pymnt  total_pymnt_inv  total_rec_prncp  \\\n",
       "0         0.0000    5861.0714        5831.7800        5000.0000   \n",
       "1         0.0000    1008.7100        1008.7100         456.4600   \n",
       "\n",
       "   total_rec_int  total_rec_late_fee  recoveries  collection_recovery_fee  \\\n",
       "0       861.0700              0.0000      0.0000                   0.0000   \n",
       "1       435.1700              0.0000    117.0800                   1.1100   \n",
       "\n",
       "  last_pymnt_d  last_pymnt_amnt next_pymnt_d last_credit_pull_d  \\\n",
       "0     Jan-2015         171.6200          NaN           Jan-2016   \n",
       "1     Apr-2013         119.6600          NaN           Sep-2013   \n",
       "\n",
       "   collections_12_mths_ex_med  mths_since_last_major_derog  policy_code  \\\n",
       "0                      0.0000                          nan       1.0000   \n",
       "1                      0.0000                          nan       1.0000   \n",
       "\n",
       "  application_type  annual_inc_joint  dti_joint verification_status_joint  \\\n",
       "0       INDIVIDUAL               nan        nan                       NaN   \n",
       "1       INDIVIDUAL               nan        nan                       NaN   \n",
       "\n",
       "   acc_now_delinq  tot_coll_amt  tot_cur_bal  open_acc_6m  open_il_6m  \\\n",
       "0          0.0000           nan          nan          nan         nan   \n",
       "1          0.0000           nan          nan          nan         nan   \n",
       "\n",
       "   open_il_12m  open_il_24m  mths_since_rcnt_il  total_bal_il  il_util  \\\n",
       "0          nan          nan                 nan           nan      nan   \n",
       "1          nan          nan                 nan           nan      nan   \n",
       "\n",
       "   open_rv_12m  open_rv_24m  max_bal_bc  all_util  total_rev_hi_lim  inq_fi  \\\n",
       "0          nan          nan         nan       nan               nan     nan   \n",
       "1          nan          nan         nan       nan               nan     nan   \n",
       "\n",
       "   total_cu_tl  inq_last_12m  \n",
       "0          nan           nan  \n",
       "1          nan           nan  "
      ]
     },
     "execution_count": 92,
     "metadata": {},
     "output_type": "execute_result"
    }
   ],
   "source": [
    "loan_data.head(2)"
   ]
  },
  {
   "cell_type": "markdown",
   "metadata": {},
   "source": [
    "**数据预处理**"
   ]
  },
  {
   "cell_type": "code",
   "execution_count": 176,
   "metadata": {},
   "outputs": [
    {
     "data": {
      "text/plain": [
       "desc                          0.8580\n",
       "mths_since_last_delinq        0.5120\n",
       "mths_since_last_record        0.8456\n",
       "next_pymnt_d                  0.2851\n",
       "mths_since_last_major_derog   0.7502\n",
       "annual_inc_joint              0.9994\n",
       "dti_joint                     0.9994\n",
       "verification_status_joint     0.9994\n",
       "open_acc_6m                   0.9759\n",
       "open_il_6m                    0.9759\n",
       "open_il_12m                   0.9759\n",
       "open_il_24m                   0.9759\n",
       "mths_since_rcnt_il            0.9765\n",
       "total_bal_il                  0.9759\n",
       "il_util                       0.9790\n",
       "open_rv_12m                   0.9759\n",
       "open_rv_24m                   0.9759\n",
       "max_bal_bc                    0.9759\n",
       "all_util                      0.9759\n",
       "inq_fi                        0.9759\n",
       "total_cu_tl                   0.9759\n",
       "inq_last_12m                  0.9759\n",
       "dtype: float64"
      ]
     },
     "execution_count": 176,
     "metadata": {},
     "output_type": "execute_result"
    }
   ],
   "source": [
    "#处理缺失值\n",
    "na_cols=loan_data.isnull().sum()/len(loan_data)\n",
    "na_cols[na_cols.values>0.25]"
   ]
  },
  {
   "cell_type": "code",
   "execution_count": 177,
   "metadata": {},
   "outputs": [
    {
     "data": {
      "text/plain": [
       "(887379, 52)"
      ]
     },
     "execution_count": 177,
     "metadata": {},
     "output_type": "execute_result"
    }
   ],
   "source": [
    "#将缺失值超过25%的列删除\n",
    "na_col=list(na_cols[na_cols.values>0.25].index)\n",
    "loan_data.drop(labels=na_col,axis=1,inplace=True)\n",
    "loan_data.shape"
   ]
  },
  {
   "cell_type": "code",
   "execution_count": 178,
   "metadata": {},
   "outputs": [
    {
     "data": {
      "text/plain": [
       "(887379, 51)"
      ]
     },
     "execution_count": 178,
     "metadata": {},
     "output_type": "execute_result"
    }
   ],
   "source": [
    "#删除唯一值只有一个的列\n",
    "unique=loan_data.nunique()\n",
    "uni_col=list(unique[unique.values==1].index)\n",
    "loan_data.drop(labels=uni_col,axis=1,inplace=True)\n",
    "loan_data.shape"
   ]
  },
  {
   "cell_type": "code",
   "execution_count": 179,
   "metadata": {},
   "outputs": [
    {
     "name": "stdout",
     "output_type": "stream",
     "text": [
      "Current                                                601779\n",
      "Fully Paid                                             207723\n",
      "Charged Off                                             45248\n",
      "Late (31-120 days)                                      11591\n",
      "Issued                                                   8460\n",
      "In Grace Period                                          6253\n",
      "Late (16-30 days)                                        2357\n",
      "Does not meet the credit policy. Status:Fully Paid       1988\n",
      "Default                                                  1219\n",
      "Does not meet the credit policy. Status:Charged Off       761\n",
      "Name: loan_status, dtype: int64\n",
      "(254190, 51)\n",
      "Fully Paid     207723\n",
      "Charged Off     45248\n",
      "Default          1219\n",
      "Name: loan_status, dtype: int64\n"
     ]
    }
   ],
   "source": [
    "#针对贷款状态这列,只保留default，fully paid，charged off三个状态\n",
    "status=loan_data.loan_status.value_counts()\n",
    "print(status)\n",
    "loan_data=loan_data[loan_data.loan_status.isin(['Fully Paid','Charged Off','Default'])]\n",
    "print(loan_data.shape)\n",
    "print(loan_data.loan_status.value_counts())"
   ]
  },
  {
   "cell_type": "code",
   "execution_count": 180,
   "metadata": {},
   "outputs": [
    {
     "name": "stdout",
     "output_type": "stream",
     "text": [
      "0    207723\n",
      "1     46467\n",
      "Name: loan_status, dtype: int64\n"
     ]
    }
   ],
   "source": [
    "#处理目标变量：loan_taraget\n",
    "#目标变量有两个值：坏账和结清，坏账为1，结清为0\n",
    "def target(status):\n",
    "    if status=='Fully Paid':\n",
    "        return 0\n",
    "    else:\n",
    "        return 1\n",
    "\n",
    "loan_data['loan_status']=loan_data['loan_status'].map(target)\n",
    "print(loan_data.loan_status.value_counts())"
   ]
  },
  {
   "cell_type": "code",
   "execution_count": 181,
   "metadata": {},
   "outputs": [
    {
     "data": {
      "text/plain": [
       "(254190, 24)"
      ]
     },
     "execution_count": 181,
     "metadata": {},
     "output_type": "execute_result"
    }
   ],
   "source": [
    "#移除不需要分析的列\n",
    "drop_features=['id','member_id','url','zip_code','zip_code','application_type','last_pymnt_d','last_credit_pull_d','verification_status','pymnt_plan','funded_amnt','funded_amnt_inv','sub_grade','out_prncp','out_prncp_inv','total_pymnt_inv','total_pymnt','total_pymnt_inv','total_rec_prncp','total_rec_int','total_rec_late_fee','recoveries','collection_recovery_fee','last_pymnt_amnt','initial_list_status','earliest_cr_line','tot_coll_amt','tot_cur_bal','total_rev_hi_lim']\n",
    "loan_data.drop(labels=drop_features,axis=1,inplace=True)\n",
    "loan_data.shape"
   ]
  },
  {
   "cell_type": "code",
   "execution_count": 182,
   "metadata": {
    "scrolled": false
   },
   "outputs": [
    {
     "data": {
      "text/plain": [
       "loan_amnt                        0\n",
       "term                             0\n",
       "int_rate                         0\n",
       "installment                      0\n",
       "grade                            0\n",
       "emp_title                        0\n",
       "emp_length                    9968\n",
       "home_ownership                   0\n",
       "annual_inc                       0\n",
       "issue_d                          0\n",
       "loan_status                      0\n",
       "purpose                          0\n",
       "title                            0\n",
       "addr_state                       0\n",
       "dti                              0\n",
       "delinq_2yrs                      0\n",
       "inq_last_6mths                   0\n",
       "open_acc                         0\n",
       "pub_rec                          0\n",
       "revol_bal                        0\n",
       "revol_util                       0\n",
       "total_acc                        0\n",
       "collections_12_mths_ex_med       0\n",
       "acc_now_delinq                   0\n",
       "dtype: int64"
      ]
     },
     "execution_count": 182,
     "metadata": {},
     "output_type": "execute_result"
    }
   ],
   "source": [
    "#填充缺失值（数值型特征用平均值）\n",
    "loan_data['emp_title'].fillna('Unknown',inplace = True)\n",
    "loan_data['title'].fillna('Unknown',inplace = True)\n",
    "loan_data['revol_util'].fillna(loan_data['revol_util'].mean(),inplace = True)\n",
    "loan_data['collections_12_mths_ex_med'].fillna(loan_data['collections_12_mths_ex_med'].mean(),inplace = True)\n",
    "loan_data.isnull().sum()"
   ]
  },
  {
   "cell_type": "code",
   "execution_count": 183,
   "metadata": {},
   "outputs": [
    {
     "name": "stdout",
     "output_type": "stream",
     "text": [
      "10+ years    77256\n",
      "2 years      23647\n",
      "< 1 year     20975\n",
      "3 years      20484\n",
      "5 years      18136\n",
      "1 year       16951\n",
      "4 years      16263\n",
      "6 years      14816\n",
      "7 years      14156\n",
      "8 years      11922\n",
      "NaN           9968\n",
      "9 years       9616\n",
      "Name: emp_length, dtype: int64\n",
      "10.0000    77256\n",
      "2.0000     23647\n",
      "0.5000     20975\n",
      "3.0000     20484\n",
      "5.0000     18136\n",
      "1.0000     16951\n",
      "4.0000     16263\n",
      "6.0000     14816\n",
      "7.0000     14156\n",
      "8.0000     11922\n",
      "0.0000      9968\n",
      "9.0000      9616\n",
      "Name: emp_length_int, dtype: int64\n"
     ]
    }
   ],
   "source": [
    "#处理emp_length列’\n",
    "print(loan_data['emp_length'].value_counts(dropna=False))\n",
    "loan_data['emp_length_int'] = np.nan\n",
    "\n",
    "for col in [loan_data]:\n",
    "    col.loc[col['emp_length'] == '10+ years', \"emp_length_int\"] = 10\n",
    "    col.loc[col['emp_length'] == '9 years', \"emp_length_int\"] = 9\n",
    "    col.loc[col['emp_length'] == '8 years', \"emp_length_int\"] = 8\n",
    "    col.loc[col['emp_length'] == '7 years', \"emp_length_int\"] = 7\n",
    "    col.loc[col['emp_length'] == '6 years', \"emp_length_int\"] = 6\n",
    "    col.loc[col['emp_length'] == '5 years', \"emp_length_int\"] = 5\n",
    "    col.loc[col['emp_length'] == '4 years', \"emp_length_int\"] = 4\n",
    "    col.loc[col['emp_length'] == '3 years', \"emp_length_int\"] = 3\n",
    "    col.loc[col['emp_length'] == '2 years', \"emp_length_int\"] = 2\n",
    "    col.loc[col['emp_length'] == '1 year', \"emp_length_int\"] = 1\n",
    "    col.loc[col['emp_length'] == '< 1 year', \"emp_length_int\"] = 0.5\n",
    "    col.loc[col['emp_length'].isnull(), \"emp_length_int\"] = 0\n",
    "    \n",
    "print(loan_data['emp_length_int'].value_counts(dropna=False))"
   ]
  },
  {
   "cell_type": "code",
   "execution_count": 184,
   "metadata": {},
   "outputs": [
    {
     "name": "stdout",
     "output_type": "stream",
     "text": [
      "debt_consolidation   0.5868\n",
      "credit_card          0.1979\n",
      "home_improvement     0.0589\n",
      "other                0.0564\n",
      "major_purchase       0.0247\n",
      "small_business       0.0187\n",
      "car                  0.0144\n",
      "medical              0.0113\n",
      "moving               0.0080\n",
      "wedding              0.0077\n",
      "house                0.0065\n",
      "vacation             0.0063\n",
      "educational          0.0013\n",
      "renewable_energy     0.0011\n",
      "Name: purpose, dtype: float64\n",
      "(236001, 25)\n"
     ]
    }
   ],
   "source": [
    "#针对贷款目的这列，删除占比小于0.7%的目的以及other\n",
    "purpose=loan_data.purpose.value_counts()/len(loan_data)\n",
    "print(purpose)\n",
    "del_purpose=list(purpose[(purpose<0.007)|(purpose.index=='other')].index)\n",
    "loan_data.drop(labels=loan_data[loan_data.purpose.isin(del_purpose)].index,inplace=True)\n",
    "print(loan_data.shape)"
   ]
  },
  {
   "cell_type": "markdown",
   "metadata": {},
   "source": [
    "**构造新特征**"
   ]
  },
  {
   "cell_type": "code",
   "execution_count": 185,
   "metadata": {},
   "outputs": [],
   "source": [
    "#划分区间\n",
    "bins = [0, 7.5, 10, 12.5, 15,20]\n",
    "slot = ['0-7.5', '7.5-10', '10-12.5', '12.5-15', '15 and above']\n",
    "loan_data['int_rate_range'] = pd.cut(loan_data['int_rate'], bins, labels=slot)"
   ]
  },
  {
   "cell_type": "markdown",
   "metadata": {},
   "source": [
    "**单变量分析**"
   ]
  },
  {
   "cell_type": "markdown",
   "metadata": {},
   "source": [
    "1、目标变量"
   ]
  },
  {
   "cell_type": "code",
   "execution_count": 103,
   "metadata": {},
   "outputs": [
    {
     "data": {
      "text/plain": [
       "<matplotlib.axes._subplots.AxesSubplot at 0x1f8263dc7b8>"
      ]
     },
     "execution_count": 103,
     "metadata": {},
     "output_type": "execute_result"
    },
    {
     "data": {
      "image/png": "[encoded data removed]",
      "text/plain": [
       "<matplotlib.figure.Figure at 0x1f8263dcc50>"
      ]
     },
     "metadata": {},
     "output_type": "display_data"
    }
   ],
   "source": [
    "fig,ax=plt.subplots(figsize=(6,6))\n",
    "loan_data['loan_status'].value_counts().plot(kind = 'pie',autopct='%.0f%%')"
   ]
  },
  {
   "cell_type": "markdown",
   "metadata": {},
   "source": [
    "不良贷款占总贷款的18%"
   ]
  },
  {
   "cell_type": "markdown",
   "metadata": {},
   "source": [
    "2、放款金额"
   ]
  },
  {
   "cell_type": "code",
   "execution_count": 104,
   "metadata": {},
   "outputs": [
    {
     "data": {
      "text/plain": [
       "<matplotlib.axes._subplots.AxesSubplot at 0x1f806c12400>"
      ]
     },
     "execution_count": 104,
     "metadata": {},
     "output_type": "execute_result"
    },
    {
     "data": {
      "image/png": "[encoded data removed]",
      "text/plain": [
       "<matplotlib.figure.Figure at 0x1f8007faf28>"
      ]
     },
     "metadata": {},
     "output_type": "display_data"
    }
   ],
   "source": [
    "fig,axes=plt.subplots(1,2,figsize=(15,6))\n",
    "sns.distplot(loan_data.loan_amnt,ax=axes[0])\n",
    "sns.boxplot(loan_data.loan_amnt,orient='v',ax=axes[1])"
   ]
  },
  {
   "cell_type": "markdown",
   "metadata": {},
   "source": [
    "大多数贷款金额在8000-20000之间"
   ]
  },
  {
   "cell_type": "markdown",
   "metadata": {},
   "source": [
    "3、贷款利率"
   ]
  },
  {
   "cell_type": "code",
   "execution_count": 105,
   "metadata": {},
   "outputs": [
    {
     "data": {
      "text/plain": [
       "<matplotlib.axes._subplots.AxesSubplot at 0x1f8006f2c50>"
      ]
     },
     "execution_count": 105,
     "metadata": {},
     "output_type": "execute_result"
    },
    {
     "data": {
      "image/png": "[encoded data removed]",
      "text/plain": [
       "<matplotlib.figure.Figure at 0x1f8006b26d8>"
      ]
     },
     "metadata": {},
     "output_type": "display_data"
    }
   ],
   "source": [
    "fig,axes=plt.subplots(1,2,figsize=(15,6))\n",
    "sns.distplot(loan_data.int_rate,ax=axes[0])\n",
    "sns.boxplot(loan_data.int_rate,orient='v',ax=axes[1])"
   ]
  },
  {
   "cell_type": "markdown",
   "metadata": {},
   "source": [
    "大多数贷款利率在11%-17%之间"
   ]
  },
  {
   "cell_type": "markdown",
   "metadata": {},
   "source": [
    "4、年收入"
   ]
  },
  {
   "cell_type": "code",
   "execution_count": 106,
   "metadata": {},
   "outputs": [
    {
     "data": {
      "text/plain": [
       "count    236001.0000\n",
       "mean      72806.9268\n",
       "std       59309.5117\n",
       "min        3000.0000\n",
       "25%       45000.0000\n",
       "50%       62352.0000\n",
       "75%       87500.0000\n",
       "max     8706582.0000\n",
       "Name: annual_inc, dtype: float64"
      ]
     },
     "execution_count": 106,
     "metadata": {},
     "output_type": "execute_result"
    }
   ],
   "source": [
    "loan_data.annual_inc.describe()"
   ]
  },
  {
   "cell_type": "code",
   "execution_count": 186,
   "metadata": {},
   "outputs": [
    {
     "data": {
      "text/plain": [
       "count   234820.0000\n",
       "mean     70794.1014\n",
       "std      37415.1053\n",
       "min       3000.0000\n",
       "25%      45000.0000\n",
       "50%      62000.0000\n",
       "75%      86961.5000\n",
       "max     296000.0000\n",
       "Name: annual_inc, dtype: float64"
      ]
     },
     "execution_count": 186,
     "metadata": {},
     "output_type": "execute_result"
    }
   ],
   "source": [
    "#删除离群值\n",
    "q=loan_data.annual_inc.quantile(0.995)\n",
    "loan_data=loan_data[loan_data.annual_inc<q]\n",
    "loan_data.annual_inc.describe()"
   ]
  },
  {
   "cell_type": "code",
   "execution_count": 108,
   "metadata": {},
   "outputs": [
    {
     "data": {
      "text/plain": [
       "<matplotlib.axes._subplots.AxesSubplot at 0x1f806143390>"
      ]
     },
     "execution_count": 108,
     "metadata": {},
     "output_type": "execute_result"
    },
    {
     "data": {
      "image/png": "[encoded data removed]",
      "text/plain": [
       "<matplotlib.figure.Figure at 0x1f800742400>"
      ]
     },
     "metadata": {},
     "output_type": "display_data"
    }
   ],
   "source": [
    "fig,axes=plt.subplots(1,2,figsize=(15,6))\n",
    "sns.distplot(loan_data.annual_inc,ax=axes[0])\n",
    "sns.boxplot(loan_data.annual_inc,orient='v',ax=axes[1])"
   ]
  },
  {
   "cell_type": "markdown",
   "metadata": {},
   "source": [
    "大多数借款者年收入在50000-100000之间"
   ]
  },
  {
   "cell_type": "markdown",
   "metadata": {},
   "source": [
    "5、贷款目的"
   ]
  },
  {
   "cell_type": "code",
   "execution_count": 109,
   "metadata": {},
   "outputs": [
    {
     "data": {
      "text/plain": [
       "<matplotlib.axes._subplots.AxesSubplot at 0x1f806199ba8>"
      ]
     },
     "execution_count": 109,
     "metadata": {},
     "output_type": "execute_result"
    },
    {
     "data": {
      "image/png": "[encoded data removed]",
      "text/plain": [
       "<matplotlib.figure.Figure at 0x1f8007b64a8>"
      ]
     },
     "metadata": {},
     "output_type": "display_data"
    }
   ],
   "source": [
    "fig,ax=plt.subplots(figsize=(15,6))\n",
    "sns.countplot(data=loan_data,x=loan_data.purpose,order=loan_data.purpose.value_counts().index)"
   ]
  },
  {
   "cell_type": "markdown",
   "metadata": {},
   "source": [
    "60%的用户贷款为了还其他途径的贷款（Debt_Consolidation）"
   ]
  },
  {
   "cell_type": "markdown",
   "metadata": {},
   "source": [
    "6、借款人房产情况"
   ]
  },
  {
   "cell_type": "code",
   "execution_count": 110,
   "metadata": {},
   "outputs": [
    {
     "data": {
      "text/plain": [
       "<matplotlib.axes._subplots.AxesSubplot at 0x1f80622ada0>"
      ]
     },
     "execution_count": 110,
     "metadata": {},
     "output_type": "execute_result"
    },
    {
     "data": {
      "image/png": "[encoded data removed]",
      "text/plain": [
       "<matplotlib.figure.Figure at 0x1f8061fc860>"
      ]
     },
     "metadata": {},
     "output_type": "display_data"
    }
   ],
   "source": [
    "fig,ax=plt.subplots(figsize=(10,6))\n",
    "sns.countplot(data=loan_data,x=loan_data.home_ownership,order=loan_data.home_ownership.value_counts().index)"
   ]
  },
  {
   "cell_type": "code",
   "execution_count": 187,
   "metadata": {},
   "outputs": [
    {
     "data": {
      "text/plain": [
       "array(['RENT', 'OWN', 'MORTGAGE'], dtype=object)"
      ]
     },
     "execution_count": 187,
     "metadata": {},
     "output_type": "execute_result"
    }
   ],
   "source": [
    "remove=['OTHER','NONE','ANY']\n",
    "loan_data.drop(loan_data[loan_data.home_ownership.isin(remove)].index,inplace=True)\n",
    "loan_data.home_ownership.unique()"
   ]
  },
  {
   "cell_type": "markdown",
   "metadata": {},
   "source": [
    "40%的借款人房子是租来的，52%的借款人房子已经进行过抵押"
   ]
  },
  {
   "cell_type": "markdown",
   "metadata": {},
   "source": [
    "**多变量分析**"
   ]
  },
  {
   "cell_type": "markdown",
   "metadata": {},
   "source": [
    "1、贷款目的，贷款金额与贷款状态"
   ]
  },
  {
   "cell_type": "code",
   "execution_count": 112,
   "metadata": {},
   "outputs": [
    {
     "data": {
      "text/plain": [
       "<matplotlib.legend.Legend at 0x1f82ad07a20>"
      ]
     },
     "execution_count": 112,
     "metadata": {},
     "output_type": "execute_result"
    },
    {
     "data": {
      "image/png": "[encoded data removed]",
      "text/plain": [
       "<matplotlib.figure.Figure at 0x1f8006aa5f8>"
      ]
     },
     "metadata": {},
     "output_type": "display_data"
    }
   ],
   "source": [
    "fig,ax=plt.subplots(figsize=(15,6))\n",
    "sns.boxplot(data=loan_data,x=loan_data['purpose'],y=loan_data['loan_amnt'],hue=loan_data['loan_status'])\n",
    "ax.legend(loc='upper right')"
   ]
  },
  {
   "cell_type": "code",
   "execution_count": 113,
   "metadata": {},
   "outputs": [
    {
     "data": {
      "text/plain": [
       "<matplotlib.axes._subplots.AxesSubplot at 0x1f81e0ccb00>"
      ]
     },
     "execution_count": 113,
     "metadata": {},
     "output_type": "execute_result"
    },
    {
     "data": {
      "image/png": "[encoded data removed]",
      "text/plain": [
       "<matplotlib.figure.Figure at 0x1f81f1d00b8>"
      ]
     },
     "metadata": {},
     "output_type": "display_data"
    }
   ],
   "source": [
    "fig,ax=plt.subplots(figsize=(15,6))\n",
    "purpose_0=loan_data.purpose[loan_data.loan_status==0].value_counts()\n",
    "purpose_1=loan_data.purpose[loan_data.loan_status==1].value_counts()\n",
    "df=pd.DataFrame({'good':purpose_0,'bad':purpose_1})\n",
    "df['loan_status']=df['good']+df['bad']\n",
    "sns.barplot(data=df,x=df.index,y=df.loan_status,color='orange')\n",
    "sns.barplot(data=df,x=df.index,y=df.good,color='blue')"
   ]
  },
  {
   "cell_type": "markdown",
   "metadata": {},
   "source": [
    "信用卡和还其他贷款这两个贷款目的的坏账率更高"
   ]
  },
  {
   "cell_type": "markdown",
   "metadata": {},
   "source": [
    "2、工作年限，贷款金额与贷款状态"
   ]
  },
  {
   "cell_type": "code",
   "execution_count": 114,
   "metadata": {
    "scrolled": false
   },
   "outputs": [
    {
     "data": {
      "text/plain": [
       "<matplotlib.legend.Legend at 0x1f8125ac320>"
      ]
     },
     "execution_count": 114,
     "metadata": {},
     "output_type": "execute_result"
    },
    {
     "data": {
      "image/png": "[encoded data removed]",
      "text/plain": [
       "<matplotlib.figure.Figure at 0x1f81f376b38>"
      ]
     },
     "metadata": {},
     "output_type": "display_data"
    }
   ],
   "source": [
    "fig,ax=plt.subplots(figsize=(15,6))\n",
    "sns.boxplot(data=loan_data,x=loan_data.emp_length,y=loan_data.loan_amnt,hue=loan_data.loan_status)\n",
    "ax.legend(loc='upper right')"
   ]
  },
  {
   "cell_type": "code",
   "execution_count": 115,
   "metadata": {},
   "outputs": [
    {
     "data": {
      "text/plain": [
       "<matplotlib.axes._subplots.AxesSubplot at 0x1f81f3769e8>"
      ]
     },
     "execution_count": 115,
     "metadata": {},
     "output_type": "execute_result"
    },
    {
     "data": {
      "image/png": "[encoded data removed]",
      "text/plain": [
       "<matplotlib.figure.Figure at 0x1f80ddb6710>"
      ]
     },
     "metadata": {},
     "output_type": "display_data"
    }
   ],
   "source": [
    "fig,ax=plt.subplots(figsize=(15,6))\n",
    "emp_length_0=loan_data.emp_length[loan_data.loan_status==0].value_counts()\n",
    "emp_length_1=loan_data.emp_length[loan_data.loan_status==1].value_counts()\n",
    "df=pd.DataFrame({'good':emp_length_0,'bad':emp_length_1})\n",
    "df['loan_status']=df['good']+df['bad']\n",
    "sns.barplot(data=df,x=df.index,y=df.loan_status,color='orange')\n",
    "sns.barplot(data=df,x=df.index,y=df.good,color='blue')"
   ]
  },
  {
   "cell_type": "markdown",
   "metadata": {},
   "source": [
    "3、房产，贷款金额与贷款状态"
   ]
  },
  {
   "cell_type": "code",
   "execution_count": 116,
   "metadata": {
    "scrolled": false
   },
   "outputs": [
    {
     "data": {
      "text/plain": [
       "<matplotlib.legend.Legend at 0x1f82ab04a58>"
      ]
     },
     "execution_count": 116,
     "metadata": {},
     "output_type": "execute_result"
    },
    {
     "data": {
      "image/png": "[encoded data removed]",
      "text/plain": [
       "<matplotlib.figure.Figure at 0x1f806127b00>"
      ]
     },
     "metadata": {},
     "output_type": "display_data"
    }
   ],
   "source": [
    "fig,ax=plt.subplots(figsize=(10,6))\n",
    "sns.boxplot(data=loan_data,x=loan_data.home_ownership,y=loan_data.loan_amnt,hue=loan_data.loan_status)\n",
    "ax.legend(loc='upper right')"
   ]
  },
  {
   "cell_type": "code",
   "execution_count": 117,
   "metadata": {},
   "outputs": [
    {
     "data": {
      "text/plain": [
       "<matplotlib.axes._subplots.AxesSubplot at 0x1f80bdac358>"
      ]
     },
     "execution_count": 117,
     "metadata": {},
     "output_type": "execute_result"
    },
    {
     "data": {
      "image/png": "[encoded data removed]",
      "text/plain": [
       "<matplotlib.figure.Figure at 0x1f80b49edd8>"
      ]
     },
     "metadata": {},
     "output_type": "display_data"
    }
   ],
   "source": [
    "fig,ax=plt.subplots(figsize=(15,6))\n",
    "home_ownership_0=loan_data.home_ownership[loan_data.loan_status==0].value_counts()\n",
    "home_ownership_1=loan_data.home_ownership[loan_data.loan_status==1].value_counts()\n",
    "df=pd.DataFrame({'good':home_ownership_0,'bad':home_ownership_1})\n",
    "df['loan_status']=df['good']+df['bad']\n",
    "sns.barplot(data=df,x=df.index,y=df.loan_status,color='orange')\n",
    "sns.barplot(data=df,x=df.index,y=df.good,color='blue')"
   ]
  },
  {
   "cell_type": "markdown",
   "metadata": {},
   "source": [
    "租房和房屋已经抵押的借款人坏账率更高"
   ]
  },
  {
   "cell_type": "markdown",
   "metadata": {},
   "source": [
    "4、利率，贷款金额与贷款状态"
   ]
  },
  {
   "cell_type": "code",
   "execution_count": 118,
   "metadata": {},
   "outputs": [
    {
     "data": {
      "text/plain": [
       "<matplotlib.legend.Legend at 0x1f80fb1e940>"
      ]
     },
     "execution_count": 118,
     "metadata": {},
     "output_type": "execute_result"
    },
    {
     "data": {
      "image/png": "[encoded data removed]",
      "text/plain": [
       "<matplotlib.figure.Figure at 0x1f80bd9df60>"
      ]
     },
     "metadata": {},
     "output_type": "display_data"
    }
   ],
   "source": [
    "fig,ax=plt.subplots(figsize=(10,6))\n",
    "sns.boxplot(data=loan_data,x=loan_data.int_rate_range,y=loan_data.loan_amnt,hue=loan_data.loan_status)\n",
    "ax.legend(loc='upper right')"
   ]
  },
  {
   "cell_type": "code",
   "execution_count": 119,
   "metadata": {},
   "outputs": [
    {
     "data": {
      "text/plain": [
       "<matplotlib.axes._subplots.AxesSubplot at 0x1f80c9f36a0>"
      ]
     },
     "execution_count": 119,
     "metadata": {},
     "output_type": "execute_result"
    },
    {
     "data": {
      "image/png": "[encoded data removed]",
      "text/plain": [
       "<matplotlib.figure.Figure at 0x1f80fb66198>"
      ]
     },
     "metadata": {},
     "output_type": "display_data"
    }
   ],
   "source": [
    "fig,ax=plt.subplots(figsize=(15,6))\n",
    "int_rate_range_0=loan_data.int_rate_range[loan_data.loan_status==0].value_counts()\n",
    "int_rate_range_1=loan_data.int_rate_range[loan_data.loan_status==1].value_counts()\n",
    "df=pd.DataFrame({'good':int_rate_range_0,'bad':int_rate_range_1})\n",
    "df['loan_status']=df['good']+df['bad']\n",
    "sns.barplot(data=df,x=df.index,y=df.loan_status,color='orange')\n",
    "sns.barplot(data=df,x=df.index,y=df.good,color='blue')"
   ]
  },
  {
   "cell_type": "markdown",
   "metadata": {},
   "source": [
    "借款利率越高，坏账率越高"
   ]
  },
  {
   "cell_type": "code",
   "execution_count": 120,
   "metadata": {},
   "outputs": [
    {
     "name": "stdout",
     "output_type": "stream",
     "text": [
      "<class 'pandas.core.frame.DataFrame'>\n",
      "Int64Index: 234656 entries, 0 to 887371\n",
      "Data columns (total 26 columns):\n",
      "loan_amnt                     234656 non-null float64\n",
      "term                          234656 non-null object\n",
      "int_rate                      234656 non-null float64\n",
      "installment                   234656 non-null float64\n",
      "grade                         234656 non-null object\n",
      "emp_title                     234656 non-null object\n",
      "emp_length                    225608 non-null object\n",
      "home_ownership                234656 non-null object\n",
      "annual_inc                    234656 non-null float64\n",
      "issue_d                       234656 non-null object\n",
      "loan_status                   234656 non-null int64\n",
      "purpose                       234656 non-null object\n",
      "title                         234656 non-null object\n",
      "addr_state                    234656 non-null object\n",
      "dti                           234656 non-null float64\n",
      "delinq_2yrs                   234656 non-null float64\n",
      "inq_last_6mths                234656 non-null float64\n",
      "open_acc                      234656 non-null float64\n",
      "pub_rec                       234656 non-null float64\n",
      "revol_bal                     234656 non-null float64\n",
      "revol_util                    234656 non-null float64\n",
      "total_acc                     234656 non-null float64\n",
      "collections_12_mths_ex_med    234656 non-null float64\n",
      "acc_now_delinq                234656 non-null float64\n",
      "emp_length_int                234656 non-null float64\n",
      "int_rate_range                215722 non-null category\n",
      "dtypes: category(1), float64(15), int64(1), object(9)\n",
      "memory usage: 56.8+ MB\n"
     ]
    }
   ],
   "source": [
    "loan_data.info()"
   ]
  },
  {
   "cell_type": "code",
   "execution_count": 146,
   "metadata": {},
   "outputs": [],
   "source": [
    "# #类目型特征因子化\n",
    "# dummies_term=pd.get_dummies(loan_data.term,prefix='term')\n",
    "# dummies_grade=pd.get_dummies(loan_data.grade,prefix='grade')\n",
    "# dummies_home_ownership=pd.get_dummies(loan_data.home_ownership,prefix='home_ownership')\n",
    "# dummies_purpose=pd.get_dummies(loan_data.purpose,prefix='purpose')\n",
    "# loan_data=pd.concat([loan_data,dummies_term,dummies_grade,dummies_home_ownership,dummies_purpose],axis=1)\n",
    "# loan_data.drop(['term','grade','home_ownership','purpose'],axis=1,inplace=True)"
   ]
  },
  {
   "cell_type": "code",
   "execution_count": 188,
   "metadata": {},
   "outputs": [],
   "source": [
    "train_df=loan_data.filter(items=['loan_status','term','loan_amnt','int_rate','grade','home_ownership','purpose','installment','annual_inc','dti','delinq_2yrs','inq_last_6mths','open_acc','pub_rec','revol_bal','revol_util','total_acc','collections_12_mths_ex_med','acc_now_delinq','emp_length_int'])\n",
    "y=train_df['loan_status'].as_matrix()\n",
    "X=train_df.drop('loan_status',axis=1).as_matrix()"
   ]
  },
  {
   "cell_type": "code",
   "execution_count": 189,
   "metadata": {},
   "outputs": [
    {
     "data": {
      "text/html": [
       "<div>\n",
       "<style scoped>\n",
       "    .dataframe tbody tr th:only-of-type {\n",
       "        vertical-align: middle;\n",
       "    }\n",
       "\n",
       "    .dataframe tbody tr th {\n",
       "        vertical-align: top;\n",
       "    }\n",
       "\n",
       "    .dataframe thead th {\n",
       "        text-align: right;\n",
       "    }\n",
       "</style>\n",
       "<table border=\"1\" class=\"dataframe\">\n",
       "  <thead>\n",
       "    <tr style=\"text-align: right;\">\n",
       "      <th></th>\n",
       "      <th>loan_status</th>\n",
       "      <th>term</th>\n",
       "      <th>loan_amnt</th>\n",
       "      <th>int_rate</th>\n",
       "      <th>grade</th>\n",
       "      <th>home_ownership</th>\n",
       "      <th>purpose</th>\n",
       "      <th>installment</th>\n",
       "      <th>annual_inc</th>\n",
       "      <th>dti</th>\n",
       "      <th>delinq_2yrs</th>\n",
       "      <th>inq_last_6mths</th>\n",
       "      <th>open_acc</th>\n",
       "      <th>pub_rec</th>\n",
       "      <th>revol_bal</th>\n",
       "      <th>revol_util</th>\n",
       "      <th>total_acc</th>\n",
       "      <th>collections_12_mths_ex_med</th>\n",
       "      <th>acc_now_delinq</th>\n",
       "      <th>emp_length_int</th>\n",
       "    </tr>\n",
       "  </thead>\n",
       "  <tbody>\n",
       "    <tr>\n",
       "      <th>0</th>\n",
       "      <td>0</td>\n",
       "      <td>36 months</td>\n",
       "      <td>5000.0000</td>\n",
       "      <td>10.6500</td>\n",
       "      <td>B</td>\n",
       "      <td>RENT</td>\n",
       "      <td>credit_card</td>\n",
       "      <td>162.8700</td>\n",
       "      <td>24000.0000</td>\n",
       "      <td>27.6500</td>\n",
       "      <td>0.0000</td>\n",
       "      <td>1.0000</td>\n",
       "      <td>3.0000</td>\n",
       "      <td>0.0000</td>\n",
       "      <td>13648.0000</td>\n",
       "      <td>83.7000</td>\n",
       "      <td>9.0000</td>\n",
       "      <td>0.0000</td>\n",
       "      <td>0.0000</td>\n",
       "      <td>10.0000</td>\n",
       "    </tr>\n",
       "    <tr>\n",
       "      <th>1</th>\n",
       "      <td>1</td>\n",
       "      <td>60 months</td>\n",
       "      <td>2500.0000</td>\n",
       "      <td>15.2700</td>\n",
       "      <td>C</td>\n",
       "      <td>RENT</td>\n",
       "      <td>car</td>\n",
       "      <td>59.8300</td>\n",
       "      <td>30000.0000</td>\n",
       "      <td>1.0000</td>\n",
       "      <td>0.0000</td>\n",
       "      <td>5.0000</td>\n",
       "      <td>3.0000</td>\n",
       "      <td>0.0000</td>\n",
       "      <td>1687.0000</td>\n",
       "      <td>9.4000</td>\n",
       "      <td>4.0000</td>\n",
       "      <td>0.0000</td>\n",
       "      <td>0.0000</td>\n",
       "      <td>0.5000</td>\n",
       "    </tr>\n",
       "  </tbody>\n",
       "</table>\n",
       "</div>"
      ],
      "text/plain": [
       "   loan_status        term  loan_amnt  int_rate grade home_ownership  \\\n",
       "0            0   36 months  5000.0000   10.6500     B           RENT   \n",
       "1            1   60 months  2500.0000   15.2700     C           RENT   \n",
       "\n",
       "       purpose  installment  annual_inc     dti  delinq_2yrs  inq_last_6mths  \\\n",
       "0  credit_card     162.8700  24000.0000 27.6500       0.0000          1.0000   \n",
       "1          car      59.8300  30000.0000  1.0000       0.0000          5.0000   \n",
       "\n",
       "   open_acc  pub_rec  revol_bal  revol_util  total_acc  \\\n",
       "0    3.0000   0.0000 13648.0000     83.7000     9.0000   \n",
       "1    3.0000   0.0000  1687.0000      9.4000     4.0000   \n",
       "\n",
       "   collections_12_mths_ex_med  acc_now_delinq  emp_length_int  \n",
       "0                      0.0000          0.0000         10.0000  \n",
       "1                      0.0000          0.0000          0.5000  "
      ]
     },
     "execution_count": 189,
     "metadata": {},
     "output_type": "execute_result"
    }
   ],
   "source": [
    "train_df.head(2)"
   ]
  },
  {
   "cell_type": "code",
   "execution_count": 148,
   "metadata": {},
   "outputs": [],
   "source": [
    "from sklearn.model_selection import train_test_split\n",
    "from sklearn import tree\n",
    "from sklearn import metrics\n",
    "from sklearn.model_selection import StratifiedKFold, cross_val_score\n",
    "from sklearn.ensemble import RandomForestClassifier"
   ]
  },
  {
   "cell_type": "markdown",
   "metadata": {},
   "source": [
    "训练模型（决策树）"
   ]
  },
  {
   "cell_type": "code",
   "execution_count": 211,
   "metadata": {},
   "outputs": [],
   "source": [
    "def GradeInt(x):\n",
    "    if x == \"A\":\n",
    "        return 1\n",
    "    elif x == \"B\":\n",
    "        return 2\n",
    "    elif x == \"C\":\n",
    "        return 3\n",
    "    elif x == \"D\":\n",
    "        return 4\n",
    "    elif x == \"E\":\n",
    "        return 5\n",
    "    else:\n",
    "        return 6\n",
    "\n",
    "loan_data['GradeInt'] = loan_data['grade'].map(GradeInt)"
   ]
  },
  {
   "cell_type": "code",
   "execution_count": 212,
   "metadata": {},
   "outputs": [],
   "source": [
    "from patsy import dmatrices\n",
    "y,X = dmatrices('loan_status ~ 0 + int_rate + GradeInt + loan_amnt + installment + annual_inc + dti + delinq_2yrs + inq_last_6mths + open_acc + pub_rec + revol_bal + revol_util + total_acc + collections_12_mths_ex_med + acc_now_delinq + emp_length_int + term  + home_ownership + purpose',loan_data, return_type = 'dataframe')"
   ]
  },
  {
   "cell_type": "code",
   "execution_count": 213,
   "metadata": {},
   "outputs": [],
   "source": [
    "X_train,X_test,y_train,y_test=train_test_split(X,y,test_size=0.3)"
   ]
  },
  {
   "cell_type": "code",
   "execution_count": 214,
   "metadata": {},
   "outputs": [
    {
     "data": {
      "text/html": [
       "<div>\n",
       "<style scoped>\n",
       "    .dataframe tbody tr th:only-of-type {\n",
       "        vertical-align: middle;\n",
       "    }\n",
       "\n",
       "    .dataframe tbody tr th {\n",
       "        vertical-align: top;\n",
       "    }\n",
       "\n",
       "    .dataframe thead th {\n",
       "        text-align: right;\n",
       "    }\n",
       "</style>\n",
       "<table border=\"1\" class=\"dataframe\">\n",
       "  <thead>\n",
       "    <tr style=\"text-align: right;\">\n",
       "      <th></th>\n",
       "      <th>term[ 36 months]</th>\n",
       "      <th>term[ 60 months]</th>\n",
       "      <th>home_ownership[T.OWN]</th>\n",
       "      <th>home_ownership[T.RENT]</th>\n",
       "      <th>purpose[T.credit_card]</th>\n",
       "      <th>purpose[T.debt_consolidation]</th>\n",
       "      <th>purpose[T.home_improvement]</th>\n",
       "      <th>purpose[T.major_purchase]</th>\n",
       "      <th>purpose[T.medical]</th>\n",
       "      <th>purpose[T.moving]</th>\n",
       "      <th>purpose[T.small_business]</th>\n",
       "      <th>purpose[T.wedding]</th>\n",
       "      <th>int_rate</th>\n",
       "      <th>GradeInt</th>\n",
       "      <th>loan_amnt</th>\n",
       "      <th>installment</th>\n",
       "      <th>annual_inc</th>\n",
       "      <th>dti</th>\n",
       "      <th>delinq_2yrs</th>\n",
       "      <th>inq_last_6mths</th>\n",
       "      <th>open_acc</th>\n",
       "      <th>pub_rec</th>\n",
       "      <th>revol_bal</th>\n",
       "      <th>revol_util</th>\n",
       "      <th>total_acc</th>\n",
       "      <th>collections_12_mths_ex_med</th>\n",
       "      <th>acc_now_delinq</th>\n",
       "      <th>emp_length_int</th>\n",
       "    </tr>\n",
       "  </thead>\n",
       "  <tbody>\n",
       "    <tr>\n",
       "      <th>222191</th>\n",
       "      <td>1.0000</td>\n",
       "      <td>0.0000</td>\n",
       "      <td>0.0000</td>\n",
       "      <td>1.0000</td>\n",
       "      <td>0.0000</td>\n",
       "      <td>1.0000</td>\n",
       "      <td>0.0000</td>\n",
       "      <td>0.0000</td>\n",
       "      <td>0.0000</td>\n",
       "      <td>0.0000</td>\n",
       "      <td>0.0000</td>\n",
       "      <td>0.0000</td>\n",
       "      <td>12.1200</td>\n",
       "      <td>2.0000</td>\n",
       "      <td>5650.0000</td>\n",
       "      <td>187.9900</td>\n",
       "      <td>75000.0000</td>\n",
       "      <td>3.9800</td>\n",
       "      <td>0.0000</td>\n",
       "      <td>1.0000</td>\n",
       "      <td>6.0000</td>\n",
       "      <td>0.0000</td>\n",
       "      <td>11221.0000</td>\n",
       "      <td>93.5000</td>\n",
       "      <td>8.0000</td>\n",
       "      <td>0.0000</td>\n",
       "      <td>0.0000</td>\n",
       "      <td>5.0000</td>\n",
       "    </tr>\n",
       "    <tr>\n",
       "      <th>98455</th>\n",
       "      <td>1.0000</td>\n",
       "      <td>0.0000</td>\n",
       "      <td>0.0000</td>\n",
       "      <td>0.0000</td>\n",
       "      <td>0.0000</td>\n",
       "      <td>1.0000</td>\n",
       "      <td>0.0000</td>\n",
       "      <td>0.0000</td>\n",
       "      <td>0.0000</td>\n",
       "      <td>0.0000</td>\n",
       "      <td>0.0000</td>\n",
       "      <td>0.0000</td>\n",
       "      <td>12.3500</td>\n",
       "      <td>2.0000</td>\n",
       "      <td>13500.0000</td>\n",
       "      <td>450.6600</td>\n",
       "      <td>75000.0000</td>\n",
       "      <td>11.7800</td>\n",
       "      <td>0.0000</td>\n",
       "      <td>1.0000</td>\n",
       "      <td>7.0000</td>\n",
       "      <td>0.0000</td>\n",
       "      <td>13268.0000</td>\n",
       "      <td>78.5000</td>\n",
       "      <td>30.0000</td>\n",
       "      <td>0.0000</td>\n",
       "      <td>0.0000</td>\n",
       "      <td>10.0000</td>\n",
       "    </tr>\n",
       "  </tbody>\n",
       "</table>\n",
       "</div>"
      ],
      "text/plain": [
       "        term[ 36 months]  term[ 60 months]  home_ownership[T.OWN]  \\\n",
       "222191            1.0000            0.0000                 0.0000   \n",
       "98455             1.0000            0.0000                 0.0000   \n",
       "\n",
       "        home_ownership[T.RENT]  purpose[T.credit_card]  \\\n",
       "222191                  1.0000                  0.0000   \n",
       "98455                   0.0000                  0.0000   \n",
       "\n",
       "        purpose[T.debt_consolidation]  purpose[T.home_improvement]  \\\n",
       "222191                         1.0000                       0.0000   \n",
       "98455                          1.0000                       0.0000   \n",
       "\n",
       "        purpose[T.major_purchase]  purpose[T.medical]  purpose[T.moving]  \\\n",
       "222191                     0.0000              0.0000             0.0000   \n",
       "98455                      0.0000              0.0000             0.0000   \n",
       "\n",
       "        purpose[T.small_business]  purpose[T.wedding]  int_rate  GradeInt  \\\n",
       "222191                     0.0000              0.0000   12.1200    2.0000   \n",
       "98455                      0.0000              0.0000   12.3500    2.0000   \n",
       "\n",
       "        loan_amnt  installment  annual_inc     dti  delinq_2yrs  \\\n",
       "222191  5650.0000     187.9900  75000.0000  3.9800       0.0000   \n",
       "98455  13500.0000     450.6600  75000.0000 11.7800       0.0000   \n",
       "\n",
       "        inq_last_6mths  open_acc  pub_rec  revol_bal  revol_util  total_acc  \\\n",
       "222191          1.0000    6.0000   0.0000 11221.0000     93.5000     8.0000   \n",
       "98455           1.0000    7.0000   0.0000 13268.0000     78.5000    30.0000   \n",
       "\n",
       "        collections_12_mths_ex_med  acc_now_delinq  emp_length_int  \n",
       "222191                      0.0000          0.0000          5.0000  \n",
       "98455                       0.0000          0.0000         10.0000  "
      ]
     },
     "execution_count": 214,
     "metadata": {},
     "output_type": "execute_result"
    }
   ],
   "source": [
    "X_train.head(2)"
   ]
  },
  {
   "cell_type": "code",
   "execution_count": 215,
   "metadata": {},
   "outputs": [
    {
     "data": {
      "text/plain": [
       "DecisionTreeClassifier(class_weight=None, criterion='entropy', max_depth=None,\n",
       "            max_features=None, max_leaf_nodes=None,\n",
       "            min_impurity_decrease=0.0, min_impurity_split=None,\n",
       "            min_samples_leaf=1, min_samples_split=2,\n",
       "            min_weight_fraction_leaf=0.0, presort=False, random_state=None,\n",
       "            splitter='best')"
      ]
     },
     "execution_count": 215,
     "metadata": {},
     "output_type": "execute_result"
    }
   ],
   "source": [
    "model = tree.DecisionTreeClassifier(criterion = 'entropy')\n",
    "model.fit(X_train,y_train)"
   ]
  },
  {
   "cell_type": "markdown",
   "metadata": {},
   "source": [
    "模型评估"
   ]
  },
  {
   "cell_type": "code",
   "execution_count": 216,
   "metadata": {},
   "outputs": [
    {
     "name": "stdout",
     "output_type": "stream",
     "text": [
      "正确率: 0.721422787903\n",
      "精度: 0.269227747663\n",
      "召回率: 0.249490390215\n",
      "[[ 3427  9302]\n",
      " [10309 47359]]\n"
     ]
    }
   ],
   "source": [
    "accuracy = metrics.accuracy_score(model.predict(X_test),y_test)\n",
    "precision = metrics.precision_score(model.predict(X_test),y_test,pos_label=1)\n",
    "recall = metrics.recall_score(model.predict(X_test),y_test,pos_label=1)\n",
    "confusion_matrix = metrics.confusion_matrix(y_test,model.predict(X_test),labels=[1,0])\n",
    "\n",
    "print('正确率:',accuracy)\n",
    "print('精度:',precision)\n",
    "print('召回率:',recall)\n",
    "print(confusion_matrix)\n"
   ]
  },
  {
   "cell_type": "markdown",
   "metadata": {},
   "source": [
    "调参"
   ]
  },
  {
   "cell_type": "code",
   "execution_count": 217,
   "metadata": {},
   "outputs": [
    {
     "data": {
      "text/plain": [
       "[<matplotlib.lines.Line2D at 0x1f819046780>]"
      ]
     },
     "execution_count": 217,
     "metadata": {},
     "output_type": "execute_result"
    },
    {
     "data": {
      "image/png": "[encoded data removed]",
      "text/plain": [
       "<matplotlib.figure.Figure at 0x1f81f7f5080>"
      ]
     },
     "metadata": {},
     "output_type": "display_data"
    }
   ],
   "source": [
    "best_model=[]\n",
    "for i in range(1,15):\n",
    "    model = tree.DecisionTreeClassifier(criterion = 'entropy', max_depth=i)    \n",
    "    kfold = StratifiedKFold(n_splits= 10, shuffle = True)\n",
    "    scores = cross_val_score(model, X_train, y_train, cv = kfold )\n",
    "    best_model.append(scores.mean())\n",
    "\n",
    "plt.plot(range(1,15),best_model)"
   ]
  },
  {
   "cell_type": "code",
   "execution_count": 218,
   "metadata": {},
   "outputs": [
    {
     "ename": "IndexError",
     "evalue": "too many indices for array",
     "output_type": "error",
     "traceback": [
      "\u001b[1;31m---------------------------------------------------------------------------\u001b[0m",
      "\u001b[1;31mIndexError\u001b[0m                                Traceback (most recent call last)",
      "\u001b[1;32m<ipython-input-218-bd72f36c7427>\u001b[0m in \u001b[0;36m<module>\u001b[1;34m()\u001b[0m\n\u001b[0;32m     13\u001b[0m                         n_iter=50)\n\u001b[0;32m     14\u001b[0m \u001b[1;33m\u001b[0m\u001b[0m\n\u001b[1;32m---> 15\u001b[1;33m \u001b[0mrandom_search\u001b[0m\u001b[1;33m.\u001b[0m\u001b[0mfit\u001b[0m\u001b[1;33m(\u001b[0m\u001b[0mX_train\u001b[0m\u001b[1;33m,\u001b[0m \u001b[0my_train\u001b[0m\u001b[1;33m)\u001b[0m\u001b[1;33m\u001b[0m\u001b[0m\n\u001b[0m\u001b[0;32m     16\u001b[0m \u001b[0mprint\u001b[0m\u001b[1;33m(\u001b[0m\u001b[0mrandom_search\u001b[0m\u001b[1;33m.\u001b[0m\u001b[0mbest_score_\u001b[0m\u001b[1;33m)\u001b[0m\u001b[1;33m\u001b[0m\u001b[0m\n\u001b[0;32m     17\u001b[0m \u001b[0mprint\u001b[0m\u001b[1;33m(\u001b[0m\u001b[0mrandom_search\u001b[0m\u001b[1;33m.\u001b[0m\u001b[0mbest_estimator_\u001b[0m\u001b[1;33m)\u001b[0m\u001b[1;33m\u001b[0m\u001b[0m\n",
      "\u001b[1;32m~\\AppData\\Roaming\\Python\\Python36\\site-packages\\sklearn\\grid_search.py\u001b[0m in \u001b[0;36mfit\u001b[1;34m(self, X, y)\u001b[0m\n\u001b[0;32m   1044\u001b[0m                                           \u001b[0mself\u001b[0m\u001b[1;33m.\u001b[0m\u001b[0mn_iter\u001b[0m\u001b[1;33m,\u001b[0m\u001b[1;33m\u001b[0m\u001b[0m\n\u001b[0;32m   1045\u001b[0m                                           random_state=self.random_state)\n\u001b[1;32m-> 1046\u001b[1;33m         \u001b[1;32mreturn\u001b[0m \u001b[0mself\u001b[0m\u001b[1;33m.\u001b[0m\u001b[0m_fit\u001b[0m\u001b[1;33m(\u001b[0m\u001b[0mX\u001b[0m\u001b[1;33m,\u001b[0m \u001b[0my\u001b[0m\u001b[1;33m,\u001b[0m \u001b[0msampled_params\u001b[0m\u001b[1;33m)\u001b[0m\u001b[1;33m\u001b[0m\u001b[0m\n\u001b[0m",
      "\u001b[1;32m~\\AppData\\Roaming\\Python\\Python36\\site-packages\\sklearn\\grid_search.py\u001b[0m in \u001b[0;36m_fit\u001b[1;34m(self, X, y, parameter_iterable)\u001b[0m\n\u001b[0;32m    551\u001b[0m                                  \u001b[1;34m'of samples (%i) than data (X: %i samples)'\u001b[0m\u001b[1;33m\u001b[0m\u001b[0m\n\u001b[0;32m    552\u001b[0m                                  % (len(y), n_samples))\n\u001b[1;32m--> 553\u001b[1;33m         \u001b[0mcv\u001b[0m \u001b[1;33m=\u001b[0m \u001b[0mcheck_cv\u001b[0m\u001b[1;33m(\u001b[0m\u001b[0mcv\u001b[0m\u001b[1;33m,\u001b[0m \u001b[0mX\u001b[0m\u001b[1;33m,\u001b[0m \u001b[0my\u001b[0m\u001b[1;33m,\u001b[0m \u001b[0mclassifier\u001b[0m\u001b[1;33m=\u001b[0m\u001b[0mis_classifier\u001b[0m\u001b[1;33m(\u001b[0m\u001b[0mestimator\u001b[0m\u001b[1;33m)\u001b[0m\u001b[1;33m)\u001b[0m\u001b[1;33m\u001b[0m\u001b[0m\n\u001b[0m\u001b[0;32m    554\u001b[0m \u001b[1;33m\u001b[0m\u001b[0m\n\u001b[0;32m    555\u001b[0m         \u001b[1;32mif\u001b[0m \u001b[0mself\u001b[0m\u001b[1;33m.\u001b[0m\u001b[0mverbose\u001b[0m \u001b[1;33m>\u001b[0m \u001b[1;36m0\u001b[0m\u001b[1;33m:\u001b[0m\u001b[1;33m\u001b[0m\u001b[0m\n",
      "\u001b[1;32m~\\AppData\\Roaming\\Python\\Python36\\site-packages\\sklearn\\cross_validation.py\u001b[0m in \u001b[0;36mcheck_cv\u001b[1;34m(cv, X, y, classifier)\u001b[0m\n\u001b[0;32m   1833\u001b[0m         \u001b[1;32mif\u001b[0m \u001b[0mclassifier\u001b[0m\u001b[1;33m:\u001b[0m\u001b[1;33m\u001b[0m\u001b[0m\n\u001b[0;32m   1834\u001b[0m             \u001b[1;32mif\u001b[0m \u001b[0mtype_of_target\u001b[0m\u001b[1;33m(\u001b[0m\u001b[0my\u001b[0m\u001b[1;33m)\u001b[0m \u001b[1;32min\u001b[0m \u001b[1;33m[\u001b[0m\u001b[1;34m'binary'\u001b[0m\u001b[1;33m,\u001b[0m \u001b[1;34m'multiclass'\u001b[0m\u001b[1;33m]\u001b[0m\u001b[1;33m:\u001b[0m\u001b[1;33m\u001b[0m\u001b[0m\n\u001b[1;32m-> 1835\u001b[1;33m                 \u001b[0mcv\u001b[0m \u001b[1;33m=\u001b[0m \u001b[0mStratifiedKFold\u001b[0m\u001b[1;33m(\u001b[0m\u001b[0my\u001b[0m\u001b[1;33m,\u001b[0m \u001b[0mcv\u001b[0m\u001b[1;33m)\u001b[0m\u001b[1;33m\u001b[0m\u001b[0m\n\u001b[0m\u001b[0;32m   1836\u001b[0m             \u001b[1;32melse\u001b[0m\u001b[1;33m:\u001b[0m\u001b[1;33m\u001b[0m\u001b[0m\n\u001b[0;32m   1837\u001b[0m                 \u001b[0mcv\u001b[0m \u001b[1;33m=\u001b[0m \u001b[0mKFold\u001b[0m\u001b[1;33m(\u001b[0m\u001b[0m_num_samples\u001b[0m\u001b[1;33m(\u001b[0m\u001b[0my\u001b[0m\u001b[1;33m)\u001b[0m\u001b[1;33m,\u001b[0m \u001b[0mcv\u001b[0m\u001b[1;33m)\u001b[0m\u001b[1;33m\u001b[0m\u001b[0m\n",
      "\u001b[1;32m~\\AppData\\Roaming\\Python\\Python36\\site-packages\\sklearn\\cross_validation.py\u001b[0m in \u001b[0;36m__init__\u001b[1;34m(self, y, n_folds, shuffle, random_state)\u001b[0m\n\u001b[0;32m    568\u001b[0m         \u001b[1;32mfor\u001b[0m \u001b[0mtest_fold_idx\u001b[0m\u001b[1;33m,\u001b[0m \u001b[0mper_label_splits\u001b[0m \u001b[1;32min\u001b[0m \u001b[0menumerate\u001b[0m\u001b[1;33m(\u001b[0m\u001b[0mzip\u001b[0m\u001b[1;33m(\u001b[0m\u001b[1;33m*\u001b[0m\u001b[0mper_label_cvs\u001b[0m\u001b[1;33m)\u001b[0m\u001b[1;33m)\u001b[0m\u001b[1;33m:\u001b[0m\u001b[1;33m\u001b[0m\u001b[0m\n\u001b[0;32m    569\u001b[0m             \u001b[1;32mfor\u001b[0m \u001b[0mlabel\u001b[0m\u001b[1;33m,\u001b[0m \u001b[1;33m(\u001b[0m\u001b[0m_\u001b[0m\u001b[1;33m,\u001b[0m \u001b[0mtest_split\u001b[0m\u001b[1;33m)\u001b[0m \u001b[1;32min\u001b[0m \u001b[0mzip\u001b[0m\u001b[1;33m(\u001b[0m\u001b[0munique_labels\u001b[0m\u001b[1;33m,\u001b[0m \u001b[0mper_label_splits\u001b[0m\u001b[1;33m)\u001b[0m\u001b[1;33m:\u001b[0m\u001b[1;33m\u001b[0m\u001b[0m\n\u001b[1;32m--> 570\u001b[1;33m                 \u001b[0mlabel_test_folds\u001b[0m \u001b[1;33m=\u001b[0m \u001b[0mtest_folds\u001b[0m\u001b[1;33m[\u001b[0m\u001b[0my\u001b[0m \u001b[1;33m==\u001b[0m \u001b[0mlabel\u001b[0m\u001b[1;33m]\u001b[0m\u001b[1;33m\u001b[0m\u001b[0m\n\u001b[0m\u001b[0;32m    571\u001b[0m                 \u001b[1;31m# the test split can be too big because we used\u001b[0m\u001b[1;33m\u001b[0m\u001b[1;33m\u001b[0m\u001b[0m\n\u001b[0;32m    572\u001b[0m                 \u001b[1;31m# KFold(max(c, self.n_folds), self.n_folds) instead of\u001b[0m\u001b[1;33m\u001b[0m\u001b[1;33m\u001b[0m\u001b[0m\n",
      "\u001b[1;31mIndexError\u001b[0m: too many indices for array"
     ]
    }
   ],
   "source": [
    "import warnings\n",
    "warnings.filterwarnings('ignore')\n",
    "\n",
    "from sklearn.grid_search import RandomizedSearchCV\n",
    "from scipy.stats import randint as sp_randint\n",
    "param_dist = {    \"max_depth\": sp_randint(1,8),\n",
    "                  \"max_features\": sp_randint(3,15),\n",
    "                  \"max_leaf_nodes\": [10,20,30,40,50],\n",
    "                  \"min_samples_leaf\": [25,50,75,100,150,250,500],\n",
    "                 }\n",
    "random_search = RandomizedSearchCV(model,\n",
    "                        param_distributions=param_dist,\n",
    "                        n_iter=50)\n",
    "\n",
    "random_search.fit(X_train, y_train)\n",
    "print(random_search.best_score_)\n",
    "print(random_search.best_estimator_)"
   ]
  },
  {
   "cell_type": "code",
   "execution_count": 170,
   "metadata": {},
   "outputs": [
    {
     "name": "stdout",
     "output_type": "stream",
     "text": [
      "正确率: 0.818898532608\n",
      "精度: 0.00235054454282\n",
      "召回率: 0.652173913043\n",
      "[[   30 12733]\n",
      " [   16 57618]]\n"
     ]
    }
   ],
   "source": [
    "best_model=random_search.best_estimator_\n",
    "\n",
    "from sklearn.ensemble import BaggingClassifier\n",
    "bagging = BaggingClassifier(best_model, random_state=1)\n",
    "bagging.fit(X,y)\n",
    "\n",
    "accuracy = metrics.accuracy_score(bagging.predict(X_test),y_test)\n",
    "precision = metrics.precision_score(bagging.predict(X_test),y_test,pos_label=1)\n",
    "recall = metrics.recall_score(bagging.predict(X_test),y_test,pos_label=1)\n",
    "confusion_matrix = metrics.confusion_matrix(y_test,bagging.predict(X_test),labels=[1,0])\n",
    "\n",
    "print('正确率:',accuracy)\n",
    "print('精度:',precision)\n",
    "print('召回率:',recall)\n",
    "print(confusion_matrix)\n"
   ]
  },
  {
   "cell_type": "code",
   "execution_count": null,
   "metadata": {},
   "outputs": [],
   "source": []
  }
 ],
 "metadata": {
  "kernelspec": {
   "display_name": "Python 3",
   "language": "python",
   "name": "python3"
  },
  "language_info": {
   "codemirror_mode": {
    "name": "ipython",
    "version": 3
   },
   "file_extension": ".py",
   "mimetype": "text/x-python",
   "name": "python",
   "nbconvert_exporter": "python",
   "pygments_lexer": "ipython3",
   "version": "3.6.4"
  }
 },
 "nbformat": 4,
 "nbformat_minor": 2
}
